{
  "nbformat": 4,
  "nbformat_minor": 0,
  "metadata": {
    "colab": {
      "provenance": [],
      "authorship_tag": "ABX9TyP9rugkw1hwEML8a48g5XTH",
      "include_colab_link": true
    },
    "kernelspec": {
      "name": "python3",
      "display_name": "Python 3"
    },
    "language_info": {
      "name": "python"
    }
  },
  "cells": [
    {
      "cell_type": "markdown",
      "metadata": {
        "id": "view-in-github",
        "colab_type": "text"
      },
      "source": [
        "<a href=\"https://colab.research.google.com/github/Subhanshu-2411/2D_Game_Java/blob/main/Vision_Transformer_Image_Classification.ipynb\" target=\"_parent\"><img src=\"https://colab.research.google.com/assets/colab-badge.svg\" alt=\"Open In Colab\"/></a>"
      ]
    },
    {
      "cell_type": "markdown",
      "source": [
        "# IMPORTING REQUIRED LIBRARIES"
      ],
      "metadata": {
        "id": "2LlR_aJ_PPuL"
      }
    },
    {
      "cell_type": "code",
      "execution_count": null,
      "metadata": {
        "id": "McIKQhTuOu5D"
      },
      "outputs": [],
      "source": [
        "import torch\n",
        "from torchvision import datasets, transforms"
      ]
    },
    {
      "cell_type": "markdown",
      "source": [
        "# DEFINING IMAGE TRANSFORMATIONS"
      ],
      "metadata": {
        "id": "jGVDKhpmPTwx"
      }
    },
    {
      "cell_type": "code",
      "source": [
        "transform = transforms.Compose([\n",
        "    transforms.RandomRotation(degrees=(-10, 10)),\n",
        "    transforms.RandomHorizontalFlip(),\n",
        "    transforms.ColorJitter(brightness=0.2, contrast=0.2, saturation=0.2, hue=0.1),\n",
        "    transforms.ToTensor(),\n",
        "    transforms.Normalize((0.5,), (0.5,))\n",
        "])"
      ],
      "metadata": {
        "id": "AeVpHAj8PHQg"
      },
      "execution_count": null,
      "outputs": []
    },
    {
      "cell_type": "markdown",
      "source": [
        "# DOWNLOADING TRAIN & TEST DATASET"
      ],
      "metadata": {
        "id": "0fVVqTw9PYOS"
      }
    },
    {
      "cell_type": "code",
      "source": [
        "train_dataset = datasets.MNIST('~/.pytorch/MNIST_data/', train=True, transform=transform, download=True)\n",
        "test_dataset = datasets.MNIST('~/.pytorch/MNIST_data/', train=False, transform=transform, download=True)"
      ],
      "metadata": {
        "id": "UMHQAAJzPIe_"
      },
      "execution_count": null,
      "outputs": []
    },
    {
      "cell_type": "markdown",
      "source": [
        "# CREATING TRAIN & TEST DATALOADERS"
      ],
      "metadata": {
        "id": "d8qJLY9HPdNI"
      }
    },
    {
      "cell_type": "code",
      "source": [
        "train_loader = torch.utils.data.DataLoader(train_dataset, batch_size=64, shuffle=True)\n",
        "test_loader = torch.utils.data.DataLoader(test_dataset, batch_size=64, shuffle=False)"
      ],
      "metadata": {
        "id": "tpC_13SLPJnZ"
      },
      "execution_count": null,
      "outputs": []
    }
  ]
}